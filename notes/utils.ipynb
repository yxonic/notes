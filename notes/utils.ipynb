{
 "cells": [
  {
   "cell_type": "code",
   "execution_count": 1,
   "metadata": {},
   "outputs": [],
   "source": [
    "import itertools\n",
    "import signal\n",
    "import logging\n",
    "\n",
    "sigint_handler = signal.getsignal(signal.SIGINT)\n",
    "\n",
    "def critical(f=None):\n",
    "    if f is not None:\n",
    "        it = iter(f)\n",
    "    else:\n",
    "        f = itertools.count()\n",
    "    signal_received = ()\n",
    "    \n",
    "    def handler(sig, frame):\n",
    "        nonlocal signal_received\n",
    "        signal_received = (sig, frame)\n",
    "        logging.warning('SIGINT received. Delaying KeyboardInterrupt.')\n",
    "\n",
    "    while True:\n",
    "        try:\n",
    "            signal.signal(signal.SIGINT, handler)\n",
    "            yield next(it)\n",
    "            signal.signal(signal.SIGINT, sigint_handler)\n",
    "            if signal_received:\n",
    "                sigint_handler(signal_received)\n",
    "        except StopIteration:\n",
    "            break"
   ]
  },
  {
   "cell_type": "code",
   "execution_count": 2,
   "metadata": {},
   "outputs": [
    {
     "name": "stdout",
     "output_type": "stream",
     "text": [
      "Don't stop here!\n",
      "ok now\n",
      "Don't stop here!\n"
     ]
    },
    {
     "name": "stderr",
     "output_type": "stream",
     "text": [
      "WARNING:root:SIGINT received. Delaying KeyboardInterrupt.\n"
     ]
    },
    {
     "name": "stdout",
     "output_type": "stream",
     "text": [
      "ok now\n"
     ]
    },
    {
     "ename": "KeyboardInterrupt",
     "evalue": "",
     "output_type": "error",
     "traceback": [
      "\u001b[0;31m---------------------------------------------------------------------------\u001b[0m",
      "\u001b[0;31mKeyboardInterrupt\u001b[0m                         Traceback (most recent call last)",
      "\u001b[0;32m<ipython-input-2-9283cb34894d>\u001b[0m in \u001b[0;36m<module>\u001b[0;34m()\u001b[0m\n\u001b[1;32m      1\u001b[0m \u001b[0;32mimport\u001b[0m \u001b[0mtime\u001b[0m\u001b[0;34m\u001b[0m\u001b[0m\n\u001b[0;32m----> 2\u001b[0;31m \u001b[0;32mfor\u001b[0m \u001b[0mi\u001b[0m \u001b[0;32min\u001b[0m \u001b[0mcritical\u001b[0m\u001b[0;34m(\u001b[0m\u001b[0mrange\u001b[0m\u001b[0;34m(\u001b[0m\u001b[0;36m10\u001b[0m\u001b[0;34m)\u001b[0m\u001b[0;34m)\u001b[0m\u001b[0;34m:\u001b[0m\u001b[0;34m\u001b[0m\u001b[0m\n\u001b[0m\u001b[1;32m      3\u001b[0m     \u001b[0mprint\u001b[0m\u001b[0;34m(\u001b[0m\u001b[0;34m'Don\\'t stop here!'\u001b[0m\u001b[0;34m)\u001b[0m\u001b[0;34m\u001b[0m\u001b[0m\n\u001b[1;32m      4\u001b[0m     \u001b[0mtime\u001b[0m\u001b[0;34m.\u001b[0m\u001b[0msleep\u001b[0m\u001b[0;34m(\u001b[0m\u001b[0;36m0.5\u001b[0m\u001b[0;34m)\u001b[0m\u001b[0;34m\u001b[0m\u001b[0m\n\u001b[1;32m      5\u001b[0m     \u001b[0mprint\u001b[0m\u001b[0;34m(\u001b[0m\u001b[0;34m'ok now'\u001b[0m\u001b[0;34m)\u001b[0m\u001b[0;34m\u001b[0m\u001b[0m\n",
      "\u001b[0;32m<ipython-input-1-6df618c762d6>\u001b[0m in \u001b[0;36mcritical\u001b[0;34m(f)\u001b[0m\n\u001b[1;32m     23\u001b[0m             \u001b[0msignal\u001b[0m\u001b[0;34m.\u001b[0m\u001b[0msignal\u001b[0m\u001b[0;34m(\u001b[0m\u001b[0msignal\u001b[0m\u001b[0;34m.\u001b[0m\u001b[0mSIGINT\u001b[0m\u001b[0;34m,\u001b[0m \u001b[0msigint_handler\u001b[0m\u001b[0;34m)\u001b[0m\u001b[0;34m\u001b[0m\u001b[0m\n\u001b[1;32m     24\u001b[0m             \u001b[0;32mif\u001b[0m \u001b[0msignal_received\u001b[0m\u001b[0;34m:\u001b[0m\u001b[0;34m\u001b[0m\u001b[0m\n\u001b[0;32m---> 25\u001b[0;31m                 \u001b[0msigint_handler\u001b[0m\u001b[0;34m(\u001b[0m\u001b[0msignal_received\u001b[0m\u001b[0;34m)\u001b[0m\u001b[0;34m\u001b[0m\u001b[0m\n\u001b[0m\u001b[1;32m     26\u001b[0m         \u001b[0;32mexcept\u001b[0m \u001b[0mStopIteration\u001b[0m\u001b[0;34m:\u001b[0m\u001b[0;34m\u001b[0m\u001b[0m\n\u001b[1;32m     27\u001b[0m             \u001b[0;32mbreak\u001b[0m\u001b[0;34m\u001b[0m\u001b[0m\n",
      "\u001b[0;31mKeyboardInterrupt\u001b[0m: "
     ]
    }
   ],
   "source": [
    "import time\n",
    "for i in critical(range(10)):\n",
    "    print('Don\\'t stop here!')\n",
    "    time.sleep(0.5)\n",
    "    print('ok now')"
   ]
  },
  {
   "cell_type": "code",
   "execution_count": 16,
   "metadata": {},
   "outputs": [],
   "source": [
    "def stateful(states):\n",
    "\n",
    "    def wrapper(cls):\n",
    "        def state_dict(self):\n",
    "            return {s: getattr(self, s) for s in states}\n",
    "\n",
    "        def load_state_dict(self, state):\n",
    "            for s in states:\n",
    "                setattr(self, s, state[s])\n",
    "\n",
    "        cls.state_dict = state_dict\n",
    "        cls.load_state_dict = load_state_dict\n",
    "        return cls\n",
    "\n",
    "    return wrapper"
   ]
  },
  {
   "cell_type": "code",
   "execution_count": 17,
   "metadata": {},
   "outputs": [],
   "source": [
    "import math\n",
    "import queue\n",
    "import random\n",
    "import threading\n",
    "\n",
    "@stateful(['batch_size', 'index', 'pos'])\n",
    "class PrefetchIter:\n",
    "    \"\"\"Iterator on data and labels, with states for save and restore.\"\"\"\n",
    "\n",
    "    def __init__(self, data, *label, length=None, batch_size=1):\n",
    "        self.data = data\n",
    "        self.label = label\n",
    "        self.batch_size = batch_size\n",
    "        self.queue = queue.Queue(maxsize=8)\n",
    "        self.length = length if length is not None else len(data)\n",
    "        \n",
    "        assert all(self.length == len(lab) for lab in label), \\\n",
    "            'data and label must have same lengths'\n",
    "\n",
    "        self.index = list(range(len(self)))\n",
    "        random.shuffle(self.index)\n",
    "        self.thread = None\n",
    "        self.pos = 0\n",
    "\n",
    "    def __len__(self):\n",
    "        return math.ceil(self.length / self.batch_size)\n",
    "\n",
    "    def __iter__(self):\n",
    "        return self\n",
    "\n",
    "    def __next__(self):\n",
    "        if self.thread is None:\n",
    "            self.thread = threading.Thread(target=self.produce)\n",
    "            self.thread.start()\n",
    "\n",
    "        if self.pos >= len(self.index):\n",
    "            self.thread.join()\n",
    "            raise StopIteration\n",
    "\n",
    "        self.pos += 1\n",
    "        return self.queue.get()\n",
    "\n",
    "    def produce(self):\n",
    "        for i in range(self.pos, len(self.index)):\n",
    "            index = self.index[self.pos]\n",
    "\n",
    "            bs = self.batch_size\n",
    "\n",
    "            if callable(self.data):\n",
    "                data_batch = self.data(index * bs, (index + 1) * bs)\n",
    "            else:\n",
    "                data_batch = self.data[index*bs:(index+1)*bs]\n",
    "\n",
    "            label_batch = [label[index*bs:(index+1)*bs]\n",
    "                           for label in self.label]\n",
    "            self.queue.put([data_batch] + label_batch)"
   ]
  },
  {
   "cell_type": "code",
   "execution_count": 21,
   "metadata": {},
   "outputs": [
    {
     "name": "stdout",
     "output_type": "stream",
     "text": [
      "[0]\n",
      "{'batch_size': 1, 'index': [0, 25, 14, 4, 22, 20, 31, 19, 24, 29, 5, 10, 12, 13, 15, 3, 16, 17, 6, 23, 18, 26, 9, 1, 21, 7, 8, 11, 28, 30, 27, 2], 'pos': 1}\n",
      "[25]\n",
      "[14]\n",
      "[14]\n",
      "[4]\n"
     ]
    },
    {
     "ename": "KeyboardInterrupt",
     "evalue": "",
     "output_type": "error",
     "traceback": [
      "\u001b[0;31m---------------------------------------------------------------------------\u001b[0m",
      "\u001b[0;31mKeyboardInterrupt\u001b[0m                         Traceback (most recent call last)",
      "\u001b[0;32m<ipython-input-21-e6ee6e1935e9>\u001b[0m in \u001b[0;36m<module>\u001b[0;34m()\u001b[0m\n\u001b[1;32m     12\u001b[0m \u001b[0;32mfor\u001b[0m \u001b[0mdata\u001b[0m \u001b[0;32min\u001b[0m \u001b[0mit\u001b[0m\u001b[0;34m:\u001b[0m\u001b[0;34m\u001b[0m\u001b[0m\n\u001b[1;32m     13\u001b[0m     \u001b[0mprint\u001b[0m\u001b[0;34m(\u001b[0m\u001b[0mdata\u001b[0m\u001b[0;34m)\u001b[0m\u001b[0;34m\u001b[0m\u001b[0m\n\u001b[0;32m---> 14\u001b[0;31m     \u001b[0mtime\u001b[0m\u001b[0;34m.\u001b[0m\u001b[0msleep\u001b[0m\u001b[0;34m(\u001b[0m\u001b[0;36m1\u001b[0m\u001b[0;34m)\u001b[0m\u001b[0;34m\u001b[0m\u001b[0m\n\u001b[0m",
      "\u001b[0;31mKeyboardInterrupt\u001b[0m: "
     ]
    }
   ],
   "source": [
    "import time\n",
    "\n",
    "def data(low, high):\n",
    "    time.sleep(1)\n",
    "    return low\n",
    "\n",
    "it = PrefetchIter(data, length=32)\n",
    "\n",
    "print(next(it))\n",
    "print(it.state_dict())\n",
    "\n",
    "for data in it:\n",
    "    print(data)\n",
    "    time.sleep(1)"
   ]
  },
  {
   "cell_type": "code",
   "execution_count": 20,
   "metadata": {},
   "outputs": [
    {
     "data": {
      "text/plain": [
       "2"
      ]
     },
     "execution_count": 20,
     "metadata": {},
     "output_type": "execute_result"
    }
   ],
   "source": [
    "it.pos"
   ]
  },
  {
   "cell_type": "code",
   "execution_count": null,
   "metadata": {},
   "outputs": [],
   "source": []
  }
 ],
 "metadata": {
  "kernelspec": {
   "display_name": "Python 3",
   "language": "python",
   "name": "python3"
  },
  "language_info": {
   "codemirror_mode": {
    "name": "ipython",
    "version": 3
   },
   "file_extension": ".py",
   "mimetype": "text/x-python",
   "name": "python",
   "nbconvert_exporter": "python",
   "pygments_lexer": "ipython3",
   "version": "3.6.5"
  }
 },
 "nbformat": 4,
 "nbformat_minor": 2
}
