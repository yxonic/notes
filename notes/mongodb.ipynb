{
 "cells": [
  {
   "cell_type": "markdown",
   "metadata": {},
   "source": [
    "```python\n",
    "from pymongo import MongoClient\n",
    "\n",
    "client = MongoClient('example.com',\n",
    "                     username='user',\n",
    "                     password='password',\n",
    "                     authSource='the_database',\n",
    "                     authMechanism='SCRAM-SHA-256')\n",
    "\n",
    "# or\n",
    "client.the_database.authenticate('user', 'password', mechanism='SCRAM-SHA-256')\n",
    "\n",
    "db = client.dbname\n",
    "collection = db.collection_name\n",
    "```"
   ]
  },
  {
   "cell_type": "code",
   "execution_count": null,
   "metadata": {},
   "outputs": [],
   "source": []
  }
 ],
 "metadata": {
  "kernelspec": {
   "display_name": "Python 3",
   "language": "python",
   "name": "python3"
  },
  "language_info": {
   "codemirror_mode": {
    "name": "ipython",
    "version": 3
   },
   "file_extension": ".py",
   "mimetype": "text/x-python",
   "name": "python",
   "nbconvert_exporter": "python",
   "pygments_lexer": "ipython3",
   "version": "3.6.5"
  }
 },
 "nbformat": 4,
 "nbformat_minor": 2
}
