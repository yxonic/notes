{
 "cells": [
  {
   "cell_type": "markdown",
   "metadata": {},
   "source": [
    "## Sequence"
   ]
  },
  {
   "cell_type": "code",
   "execution_count": 1,
   "metadata": {},
   "outputs": [],
   "source": [
    "import torch\n",
    "from torch.nn.utils.rnn import pad_sequence, pack_padded_sequence, pad_packed_sequence"
   ]
  },
  {
   "cell_type": "code",
   "execution_count": 2,
   "metadata": {},
   "outputs": [],
   "source": [
    "def argsort(seq):\n",
    "    return sorted(range(len(seq)), key=seq.__getitem__)"
   ]
  },
  {
   "cell_type": "code",
   "execution_count": 3,
   "metadata": {},
   "outputs": [],
   "source": [
    "class SeqBatch:\n",
    "    def __init__(self, seqs, dtype=None, device=None):\n",
    "        self.seqs = [torch.tensor(s, dtype=dtype, device=device) for s in seqs]\n",
    "        self.lens = [len(x) for x in seqs]\n",
    "        self.ind = torch.tensor(argsort(self.lens)[::-1], dtype=torch.long)\n",
    "        self.inv = torch.tensor(argsort(self.ind), dtype=torch.long)\n",
    "\n",
    "    def packed(self):\n",
    "        padded = self.padded()\n",
    "        return pack_padded_sequence(padded.index_select(1, self.ind),\n",
    "                                     sorted(self.lens, reverse=True))\n",
    "\n",
    "    def padded(self):\n",
    "        return pad_sequence(self.seqs)\n",
    "\n",
    "    def reorder(self, batch, dim=0):\n",
    "        return batch.index_select(dim, self.inv)"
   ]
  },
  {
   "cell_type": "code",
   "execution_count": 4,
   "metadata": {},
   "outputs": [
    {
     "data": {
      "text/plain": [
       "PackedSequence(data=tensor([3, 1, 4, 4, 2, 5]), batch_sizes=tensor([3, 2, 1]))"
      ]
     },
     "execution_count": 4,
     "metadata": {},
     "output_type": "execute_result"
    }
   ],
   "source": [
    "batch = SeqBatch([[1, 2], [3, 4, 5], [4]])\n",
    "packed = batch.packed()\n",
    "packed"
   ]
  },
  {
   "cell_type": "code",
   "execution_count": 5,
   "metadata": {},
   "outputs": [
    {
     "data": {
      "text/plain": [
       "tensor([1, 3, 4])"
      ]
     },
     "execution_count": 5,
     "metadata": {},
     "output_type": "execute_result"
    }
   ],
   "source": [
    "batch.reorder(packed.data[:3])"
   ]
  },
  {
   "cell_type": "code",
   "execution_count": null,
   "metadata": {},
   "outputs": [],
   "source": []
  }
 ],
 "metadata": {
  "kernelspec": {
   "display_name": "Python 3",
   "language": "python",
   "name": "python3"
  },
  "language_info": {
   "codemirror_mode": {
    "name": "ipython",
    "version": 3
   },
   "file_extension": ".py",
   "mimetype": "text/x-python",
   "name": "python",
   "nbconvert_exporter": "python",
   "pygments_lexer": "ipython3",
   "version": "3.6.5"
  }
 },
 "nbformat": 4,
 "nbformat_minor": 2
}
