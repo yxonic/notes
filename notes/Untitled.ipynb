{
 "cells": [
  {
   "cell_type": "code",
   "execution_count": 8,
   "metadata": {},
   "outputs": [],
   "source": [
    "import io\n",
    "\n",
    "class TableBuider:\n",
    "    # TODO: mark smallest/largest, add multirow support\n",
    "\n",
    "    def column(self, *headers):\n",
    "        self.headers = headers\n",
    "\n",
    "    def row(self, *rows):\n",
    "        self.rows = rows\n",
    "\n",
    "    def data(self, data):\n",
    "        self.data = data\n",
    "\n",
    "    def to_latex(self, decimal=2, percentage=False):\n",
    "        table = io.StringIO()\n",
    "        table.write('\\\\begin{table*}\\n')\n",
    "        table.write('  \\\\begin{tabular}{l|%s}\\n'\n",
    "                    '    \\\\toprule\\n' % ('c' * (len(self.headers) - 1)))\n",
    "        table.write('    ' + ' & '.join(self.headers) + '\\\\\\\\\\n')\n",
    "\n",
    "        table.write('    \\\\midrule\\n')\n",
    "\n",
    "        for i, row in enumerate(self.data):\n",
    "            m = max(row)\n",
    "            if percentage:\n",
    "                f = '%%.%df\\\\%%%%' % decimal\n",
    "                data = [f % (x * 100) if x < m\n",
    "                        else '\\\\textbf{%s}' % f % (x * 100)\n",
    "                        for x in row]\n",
    "            else:\n",
    "                f = '%%.%df' % decimal\n",
    "                data = [f % x if x < m else '\\\\textbf{%s}' % f % x\n",
    "                        for x in row]\n",
    "            table.write('    ' + ' & '.join([self.rows[i]] + data) +\n",
    "                        '\\\\\\\\\\n')\n",
    "\n",
    "        table.write('    \\\\bottomrule\\n'\n",
    "                    '  \\\\end{tabular}\\n'\n",
    "                    '\\\\end{table*}\\n')\n",
    "        return table.getvalue()"
   ]
  },
  {
   "cell_type": "code",
   "execution_count": 9,
   "metadata": {},
   "outputs": [
    {
     "name": "stdout",
     "output_type": "stream",
     "text": [
      "\\begin{table*}\n",
      "  \\begin{tabular}{l|ccc}\n",
      "    \\toprule\n",
      "    Task & ELMo & BERT & QuesNet\\\\\n",
      "    \\midrule\n",
      "    KP & 0.34 & \\textbf{0.42} & 0.31\\\\\n",
      "    DP & 0.11 & 0.22 & \\textbf{0.62}\\\\\n",
      "    SP & \\textbf{0.15} & 0.13 & 0.12\\\\\n",
      "    \\bottomrule\n",
      "  \\end{tabular}\n",
      "\\end{table*}\n",
      "\n"
     ]
    }
   ],
   "source": [
    "table = TableBuider()\n",
    "table.column('Task', 'ELMo', 'BERT', 'QuesNet')\n",
    "table.row('KP', 'DP', 'SP')\n",
    "table.data([[0.34, 0.422, 0.31416],\n",
    "            [0.11, 0.222, 0.618],\n",
    "            [0.152, 0.134, 0.12341341]])\n",
    "print(table.to_latex())"
   ]
  },
  {
   "cell_type": "code",
   "execution_count": null,
   "metadata": {},
   "outputs": [],
   "source": []
  }
 ],
 "metadata": {
  "kernelspec": {
   "display_name": "Python 3",
   "language": "python",
   "name": "python3"
  },
  "language_info": {
   "codemirror_mode": {
    "name": "ipython",
    "version": 3
   },
   "file_extension": ".py",
   "mimetype": "text/x-python",
   "name": "python",
   "nbconvert_exporter": "python",
   "pygments_lexer": "ipython3",
   "version": "3.6.5"
  }
 },
 "nbformat": 4,
 "nbformat_minor": 2
}
