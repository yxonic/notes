{
 "cells": [
  {
   "cell_type": "markdown",
   "metadata": {},
   "source": [
    "# OpenAI Gym"
   ]
  },
  {
   "cell_type": "markdown",
   "metadata": {},
   "source": [
    "## 安装和使用"
   ]
  },
  {
   "cell_type": "markdown",
   "metadata": {},
   "source": [
    "Gym 可以直接通过 `pip` 安装，但额外的环境需要独立安装：\n",
    "\n",
    "```sh\n",
    "pip install gym[atari] gym[box2d] gym[classic_control]\n",
    "```\n",
    "\n",
    "安装好之后，可以查看有哪些环境可用："
   ]
  },
  {
   "cell_type": "code",
   "execution_count": 1,
   "metadata": {},
   "outputs": [
    {
     "name": "stdout",
     "output_type": "stream",
     "text": [
      "[EnvSpec(Copy-v0),\n",
      " EnvSpec(RepeatCopy-v0),\n",
      " EnvSpec(ReversedAddition-v0),\n",
      " EnvSpec(ReversedAddition3-v0),\n",
      " EnvSpec(DuplicatedInput-v0)]\n"
     ]
    },
    {
     "data": {
      "text/plain": [
       "797"
      ]
     },
     "execution_count": 1,
     "metadata": {},
     "output_type": "execute_result"
    }
   ],
   "source": [
    "import gym\n",
    "from gym import envs\n",
    "from pprint import pprint\n",
    "\n",
    "pprint(list(envs.registry.all())[:5])\n",
    "len(envs.registry.all())"
   ]
  },
  {
   "cell_type": "markdown",
   "metadata": {},
   "source": [
    "环境的使用较为简单，最主要的功能包括：`reset`，`step`和`render`："
   ]
  },
  {
   "cell_type": "code",
   "execution_count": 2,
   "metadata": {},
   "outputs": [
    {
     "data": {
      "text/plain": [
       "13.0"
      ]
     },
     "execution_count": 2,
     "metadata": {},
     "output_type": "execute_result"
    }
   ],
   "source": [
    "env = gym.make('CartPole-v0')\n",
    "initial_observation = env.reset()\n",
    "R = 0\n",
    "while True:\n",
    "    observation, reward, done, info = \\\n",
    "        env.step(env.action_space.sample())\n",
    "    env.render()\n",
    "    R += reward\n",
    "    if done:\n",
    "        break\n",
    "env.close()\n",
    "R"
   ]
  },
  {
   "cell_type": "markdown",
   "metadata": {},
   "source": [
    "## 自定义环境"
   ]
  },
  {
   "cell_type": "markdown",
   "metadata": {},
   "source": [
    "下面讨论如何注册一个新的环境。首先定义一个极简环境如下："
   ]
  },
  {
   "cell_type": "code",
   "execution_count": 3,
   "metadata": {},
   "outputs": [],
   "source": [
    "import random\n",
    "import sys\n",
    "from io import StringIO\n",
    "import numpy as np\n",
    "\n",
    "class GuessingEnv(gym.Env):\n",
    "    def __init__(self):\n",
    "        self.action_space = gym.spaces.Discrete(10)\n",
    "        self.observation_space = gym.spaces.Discrete(4)\n",
    "        self.reset()\n",
    "        \n",
    "    def reset(self):\n",
    "        self._n_trials = 0\n",
    "        self._secret_num = random.randint(1, 10)\n",
    "        self._guess = 0\n",
    "        return 0\n",
    "\n",
    "    def step(self, action):\n",
    "        assert self.action_space.contains(action)\n",
    "        self._n_trials += 1\n",
    "        self._guess = action + 1\n",
    "        done = self._guess == self._secret_num\n",
    "        if done:\n",
    "            reward = 10. / self._n_trials\n",
    "        else:\n",
    "            reward = 0.\n",
    "        if self._guess < self._secret_num:\n",
    "            ob = 1\n",
    "        elif self._guess == self._secret_num:\n",
    "            ob = 2\n",
    "        else:\n",
    "            ob = 3\n",
    "        assert self.observation_space.contains(ob)\n",
    "        return ob, reward, done, {}\n",
    "\n",
    "    def render(self):\n",
    "        if self._guess < self._secret_num:\n",
    "            print(f'{self._guess} is too low!')\n",
    "        elif self._guess > self._secret_num:\n",
    "            print(f'{self._guess} is too high!')\n",
    "        else:\n",
    "            print(f'{self._guess} is the number!')"
   ]
  },
  {
   "cell_type": "markdown",
   "metadata": {},
   "source": [
    "注意两点：\n",
    "1. 我们只需要定义两个方法 `reset` 和 `step` 即可完成环境定义，其行为如上所示。`render`方法则为了更好地展示游戏界面而存在（往往有益于调试）。\n",
    "2. 环境的关键输入输出：action 和 observation，均应当定义空间（取值范围），可以是离散（`Discrete`）或连续（`Box`）。"
   ]
  },
  {
   "cell_type": "markdown",
   "metadata": {},
   "source": [
    "定义好的环境，需要被 register，才能被 gym 利用。注意 register 时 `entry_point` 设为 `<package_name>:<EnvClass>`（此处需要载入刚定义环境，因而 `package_name` 设为 `__main__`）："
   ]
  },
  {
   "cell_type": "code",
   "execution_count": 4,
   "metadata": {},
   "outputs": [],
   "source": [
    "from gym.envs.registration import register\n",
    "\n",
    "register(\n",
    "    id='Guessing-v0',\n",
    "    entry_point='__main__:GuessingEnv',\n",
    ")"
   ]
  },
  {
   "cell_type": "markdown",
   "metadata": {},
   "source": [
    "可以同样方法测试该环境，可以看到这个小游戏已经能够运作："
   ]
  },
  {
   "cell_type": "code",
   "execution_count": 5,
   "metadata": {},
   "outputs": [
    {
     "name": "stdout",
     "output_type": "stream",
     "text": [
      "8 is too high!\n",
      "7 is too high!\n",
      "9 is too high!\n",
      "9 is too high!\n",
      "2 is the number!\n"
     ]
    },
    {
     "data": {
      "text/plain": [
       "2.0"
      ]
     },
     "execution_count": 5,
     "metadata": {},
     "output_type": "execute_result"
    }
   ],
   "source": [
    "env = gym.make('Guessing-v0')\n",
    "initial_observation = env.reset()\n",
    "R = 0\n",
    "while True:\n",
    "    observation, reward, done, info = \\\n",
    "        env.step(env.action_space.sample())\n",
    "    env.render()\n",
    "    R += reward\n",
    "    if done:\n",
    "        break\n",
    "env.close()\n",
    "R"
   ]
  }
 ],
 "metadata": {
  "kernelspec": {
   "display_name": "Python 3",
   "language": "python",
   "name": "python3"
  },
  "language_info": {
   "codemirror_mode": {
    "name": "ipython",
    "version": 3
   },
   "file_extension": ".py",
   "mimetype": "text/x-python",
   "name": "python",
   "nbconvert_exporter": "python",
   "pygments_lexer": "ipython3",
   "version": "3.6.5"
  }
 },
 "nbformat": 4,
 "nbformat_minor": 2
}
