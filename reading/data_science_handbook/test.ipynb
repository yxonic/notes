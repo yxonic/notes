{
 "cells": [
  {
   "cell_type": "code",
   "execution_count": 1,
   "metadata": {},
   "outputs": [],
   "source": [
    "import torch\n",
    "import torch.nn as nn\n",
    "import torch.nn.functional as F"
   ]
  },
  {
   "cell_type": "code",
   "execution_count": 2,
   "metadata": {},
   "outputs": [],
   "source": [
    "l1 = nn.Linear(in_features=10, out_features=10)\n",
    "l2 = nn.Linear(in_features=10, out_features=1)\n",
    "x = torch.rand(16, 10)\n",
    "y = torch.rand(16, 1)"
   ]
  },
  {
   "cell_type": "code",
   "execution_count": 3,
   "metadata": {},
   "outputs": [],
   "source": [
    "for param in l2.parameters():\n",
    "    param.requires_grad = False"
   ]
  },
  {
   "cell_type": "code",
   "execution_count": 4,
   "metadata": {},
   "outputs": [],
   "source": [
    "y_ = torch.sigmoid(l2(torch.sigmoid(l1(x))))\n",
    "loss = F.mse_loss(y, y_)"
   ]
  },
  {
   "cell_type": "code",
   "execution_count": 5,
   "metadata": {},
   "outputs": [],
   "source": [
    "loss.backward()"
   ]
  },
  {
   "cell_type": "code",
   "execution_count": 6,
   "metadata": {},
   "outputs": [
    {
     "data": {
      "text/plain": [
       "tensor(1.00000e-03 *\n",
       "       [[ 2.7033,  2.7447, -0.0339,  2.7796,  1.2440,  2.5636,  1.4747,\n",
       "          1.6074,  1.0526,  2.9557],\n",
       "        [ 2.3173,  2.3399, -0.0221,  2.3745,  1.0509,  2.1508,  1.2425,\n",
       "          1.3830,  0.9161,  2.5133],\n",
       "        [ 2.6036,  2.5824, -0.0093,  2.6773,  1.1453,  2.3742,  1.3782,\n",
       "          1.5304,  1.0395,  2.7885],\n",
       "        [-0.4670, -0.4692, -0.0057, -0.4785, -0.2119, -0.4347, -0.2522,\n",
       "         -0.2775, -0.1886, -0.5017],\n",
       "        [-1.9892, -1.9717, -0.0039, -2.0556, -0.8628, -1.8209, -1.0553,\n",
       "         -1.1674, -0.7828, -2.1307],\n",
       "        [ 2.6826,  2.7077, -0.0222,  2.7477,  1.2171,  2.5065,  1.4517,\n",
       "          1.5814,  1.0511,  2.9010],\n",
       "        [-0.3492, -0.3517, -0.0018, -0.3591, -0.1596, -0.3259, -0.1895,\n",
       "         -0.2086, -0.1414, -0.3769],\n",
       "        [ 0.3129,  0.3105, -0.0039,  0.3233,  0.1375,  0.2857,  0.1662,\n",
       "          0.1829,  0.1228,  0.3381],\n",
       "        [-1.9769, -1.9732,  0.0155, -2.0265, -0.8895, -1.8158, -1.0640,\n",
       "         -1.1552, -0.7898, -2.1228],\n",
       "        [ 1.3394,  1.3287, -0.0138,  1.3721,  0.5970,  1.2114,  0.7046,\n",
       "          0.7853,  0.5392,  1.4472]])"
      ]
     },
     "execution_count": 6,
     "metadata": {},
     "output_type": "execute_result"
    }
   ],
   "source": [
    "next(l1.parameters()).grad"
   ]
  },
  {
   "cell_type": "code",
   "execution_count": 7,
   "metadata": {},
   "outputs": [
    {
     "data": {
      "text/plain": [
       "True"
      ]
     },
     "execution_count": 7,
     "metadata": {},
     "output_type": "execute_result"
    }
   ],
   "source": [
    "next(l2.parameters()).grad is None"
   ]
  },
  {
   "cell_type": "code",
   "execution_count": null,
   "metadata": {},
   "outputs": [],
   "source": []
  }
 ],
 "metadata": {
  "kernelspec": {
   "display_name": "Python 3",
   "language": "python",
   "name": "python3"
  },
  "language_info": {
   "codemirror_mode": {
    "name": "ipython",
    "version": 3
   },
   "file_extension": ".py",
   "mimetype": "text/x-python",
   "name": "python",
   "nbconvert_exporter": "python",
   "pygments_lexer": "ipython3",
   "version": "3.6.5"
  }
 },
 "nbformat": 4,
 "nbformat_minor": 2
}
